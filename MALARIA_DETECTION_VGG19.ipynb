{
 "cells": [
  {
   "cell_type": "markdown",
   "metadata": {},
   "source": [
    "# MALARIA LASSIFICATION  BY TRANSFER LEARNING\n",
    "\n",
    "WE WILL BE CLASSIFYING WHETHER THERSON HAS MALARIA OR NOT BY CLASSIFYING THE X-RAY SCANS\n",
    "\n",
    "OF INFECTED AND UNINFECTED IMAGES.\n",
    "\n",
    "##### WE WILL CLASSIFY IMAGES USING TRANSFER LEARNING TECHNIQUE(VGG 19) \n",
    "\n",
    "Transfer Learning: Transfer learning (TL) is a research problem in machine learning (ML) that focuses on storing knowledge\n",
    "\n",
    "\n",
    "gained while solving one problem and applying it to a different but related problem. For example, knowledge gained while \n",
    "\n",
    "\n",
    "learning to recognize cars could apply when trying to recognize trucks."
   ]
  },
  {
   "cell_type": "code",
   "execution_count": 44,
   "metadata": {},
   "outputs": [],
   "source": [
    "# IMPORTING NECESSARY LIBRARIES\n",
    "import numpy as np\n",
    "import matplotlib.pyplot as plt\n",
    "from tensorflow.keras.layers import Input,Dense,Lambda,Flatten,Conv2D\n",
    "from tensorflow.keras.models import Model\n",
    "from tensorflow.keras.applications.vgg19 import VGG19\n",
    "from tensorflow.keras.applications.resnet50 import preprocess_input\n",
    "from tensorflow.keras.preprocessing import image\n",
    "from tensorflow.keras.preprocessing.image import ImageDataGenerator, load_img\n",
    "from tensorflow.keras.models import Sequential\n",
    "from glob import glob\n"
   ]
  },
  {
   "cell_type": "code",
   "execution_count": 2,
   "metadata": {},
   "outputs": [],
   "source": [
    "# RE-SIZE ALL THE IMAGES TO THIS\n",
    "IMAGE_SIZE = [224,224]\n",
    "train=r'C:\\Users\\Chaitanya Kaul\\Dataset\\Dataset\\Train'\n",
    "valid_path= r'C:\\Users\\Chaitanya Kaul\\Dataset\\Dataset\\Test'"
   ]
  },
  {
   "cell_type": "code",
   "execution_count": 3,
   "metadata": {},
   "outputs": [],
   "source": [
    "# IMPORTING THE VGG 19 LIBRARY AS SHOWN AND ADDING PRE PROCESSING LAYER TO THE FRONT OF VGG\n",
    "# WE WILL USE IMAGENET WEIGHTS\n",
    "\n",
    "vgg19= VGG19(input_shape= IMAGE_SIZE + [3], weights='imagenet',include_top=False)"
   ]
  },
  {
   "cell_type": "code",
   "execution_count": 4,
   "metadata": {},
   "outputs": [
    {
     "name": "stdout",
     "output_type": "stream",
     "text": [
      "Model: \"vgg19\"\n",
      "_________________________________________________________________\n",
      "Layer (type)                 Output Shape              Param #   \n",
      "=================================================================\n",
      "input_1 (InputLayer)         [(None, 224, 224, 3)]     0         \n",
      "_________________________________________________________________\n",
      "block1_conv1 (Conv2D)        (None, 224, 224, 64)      1792      \n",
      "_________________________________________________________________\n",
      "block1_conv2 (Conv2D)        (None, 224, 224, 64)      36928     \n",
      "_________________________________________________________________\n",
      "block1_pool (MaxPooling2D)   (None, 112, 112, 64)      0         \n",
      "_________________________________________________________________\n",
      "block2_conv1 (Conv2D)        (None, 112, 112, 128)     73856     \n",
      "_________________________________________________________________\n",
      "block2_conv2 (Conv2D)        (None, 112, 112, 128)     147584    \n",
      "_________________________________________________________________\n",
      "block2_pool (MaxPooling2D)   (None, 56, 56, 128)       0         \n",
      "_________________________________________________________________\n",
      "block3_conv1 (Conv2D)        (None, 56, 56, 256)       295168    \n",
      "_________________________________________________________________\n",
      "block3_conv2 (Conv2D)        (None, 56, 56, 256)       590080    \n",
      "_________________________________________________________________\n",
      "block3_conv3 (Conv2D)        (None, 56, 56, 256)       590080    \n",
      "_________________________________________________________________\n",
      "block3_conv4 (Conv2D)        (None, 56, 56, 256)       590080    \n",
      "_________________________________________________________________\n",
      "block3_pool (MaxPooling2D)   (None, 28, 28, 256)       0         \n",
      "_________________________________________________________________\n",
      "block4_conv1 (Conv2D)        (None, 28, 28, 512)       1180160   \n",
      "_________________________________________________________________\n",
      "block4_conv2 (Conv2D)        (None, 28, 28, 512)       2359808   \n",
      "_________________________________________________________________\n",
      "block4_conv3 (Conv2D)        (None, 28, 28, 512)       2359808   \n",
      "_________________________________________________________________\n",
      "block4_conv4 (Conv2D)        (None, 28, 28, 512)       2359808   \n",
      "_________________________________________________________________\n",
      "block4_pool (MaxPooling2D)   (None, 14, 14, 512)       0         \n",
      "_________________________________________________________________\n",
      "block5_conv1 (Conv2D)        (None, 14, 14, 512)       2359808   \n",
      "_________________________________________________________________\n",
      "block5_conv2 (Conv2D)        (None, 14, 14, 512)       2359808   \n",
      "_________________________________________________________________\n",
      "block5_conv3 (Conv2D)        (None, 14, 14, 512)       2359808   \n",
      "_________________________________________________________________\n",
      "block5_conv4 (Conv2D)        (None, 14, 14, 512)       2359808   \n",
      "_________________________________________________________________\n",
      "block5_pool (MaxPooling2D)   (None, 7, 7, 512)         0         \n",
      "=================================================================\n",
      "Total params: 20,024,384\n",
      "Trainable params: 20,024,384\n",
      "Non-trainable params: 0\n",
      "_________________________________________________________________\n"
     ]
    }
   ],
   "source": [
    "vgg19.summary()"
   ]
  },
  {
   "cell_type": "code",
   "execution_count": 5,
   "metadata": {},
   "outputs": [],
   "source": [
    "# don't train existing weights\n",
    "for layer in vgg19.layers:\n",
    "    layer.trainable = False\n"
   ]
  },
  {
   "cell_type": "code",
   "execution_count": 6,
   "metadata": {},
   "outputs": [],
   "source": [
    "# useful for getting number of output classes, here we have 2 i.e Parasite and uninfected\n",
    "folders= glob(r'C:/Users/Chaitanya Kaul/Dataset/Dataset/Train/*')"
   ]
  },
  {
   "cell_type": "code",
   "execution_count": 7,
   "metadata": {},
   "outputs": [
    {
     "data": {
      "text/plain": [
       "['C:/Users/Chaitanya Kaul/Dataset/Dataset/Train\\\\Parasite',\n",
       " 'C:/Users/Chaitanya Kaul/Dataset/Dataset/Train\\\\Uninfected']"
      ]
     },
     "execution_count": 7,
     "metadata": {},
     "output_type": "execute_result"
    }
   ],
   "source": [
    "folders"
   ]
  },
  {
   "cell_type": "code",
   "execution_count": 8,
   "metadata": {},
   "outputs": [],
   "source": [
    "# OUR LAYERS- YOU CAN ADD MORE IF YOU WANT\n",
    "# FLATTENING THE LAST LAYER OF VGG19\n",
    "x= Flatten()(vgg19.output)"
   ]
  },
  {
   "cell_type": "code",
   "execution_count": 9,
   "metadata": {},
   "outputs": [],
   "source": [
    "# we will be having 2 nodes in our output layer because we have 2 classes to classify\n",
    "prediction= Dense(len(folders),activation='softmax')(x)\n",
    "\n",
    "# creating a model\n",
    "model= Model(inputs=vgg19.input,outputs=prediction)"
   ]
  },
  {
   "cell_type": "code",
   "execution_count": 10,
   "metadata": {},
   "outputs": [
    {
     "name": "stdout",
     "output_type": "stream",
     "text": [
      "Model: \"model\"\n",
      "_________________________________________________________________\n",
      "Layer (type)                 Output Shape              Param #   \n",
      "=================================================================\n",
      "input_1 (InputLayer)         [(None, 224, 224, 3)]     0         \n",
      "_________________________________________________________________\n",
      "block1_conv1 (Conv2D)        (None, 224, 224, 64)      1792      \n",
      "_________________________________________________________________\n",
      "block1_conv2 (Conv2D)        (None, 224, 224, 64)      36928     \n",
      "_________________________________________________________________\n",
      "block1_pool (MaxPooling2D)   (None, 112, 112, 64)      0         \n",
      "_________________________________________________________________\n",
      "block2_conv1 (Conv2D)        (None, 112, 112, 128)     73856     \n",
      "_________________________________________________________________\n",
      "block2_conv2 (Conv2D)        (None, 112, 112, 128)     147584    \n",
      "_________________________________________________________________\n",
      "block2_pool (MaxPooling2D)   (None, 56, 56, 128)       0         \n",
      "_________________________________________________________________\n",
      "block3_conv1 (Conv2D)        (None, 56, 56, 256)       295168    \n",
      "_________________________________________________________________\n",
      "block3_conv2 (Conv2D)        (None, 56, 56, 256)       590080    \n",
      "_________________________________________________________________\n",
      "block3_conv3 (Conv2D)        (None, 56, 56, 256)       590080    \n",
      "_________________________________________________________________\n",
      "block3_conv4 (Conv2D)        (None, 56, 56, 256)       590080    \n",
      "_________________________________________________________________\n",
      "block3_pool (MaxPooling2D)   (None, 28, 28, 256)       0         \n",
      "_________________________________________________________________\n",
      "block4_conv1 (Conv2D)        (None, 28, 28, 512)       1180160   \n",
      "_________________________________________________________________\n",
      "block4_conv2 (Conv2D)        (None, 28, 28, 512)       2359808   \n",
      "_________________________________________________________________\n",
      "block4_conv3 (Conv2D)        (None, 28, 28, 512)       2359808   \n",
      "_________________________________________________________________\n",
      "block4_conv4 (Conv2D)        (None, 28, 28, 512)       2359808   \n",
      "_________________________________________________________________\n",
      "block4_pool (MaxPooling2D)   (None, 14, 14, 512)       0         \n",
      "_________________________________________________________________\n",
      "block5_conv1 (Conv2D)        (None, 14, 14, 512)       2359808   \n",
      "_________________________________________________________________\n",
      "block5_conv2 (Conv2D)        (None, 14, 14, 512)       2359808   \n",
      "_________________________________________________________________\n",
      "block5_conv3 (Conv2D)        (None, 14, 14, 512)       2359808   \n",
      "_________________________________________________________________\n",
      "block5_conv4 (Conv2D)        (None, 14, 14, 512)       2359808   \n",
      "_________________________________________________________________\n",
      "block5_pool (MaxPooling2D)   (None, 7, 7, 512)         0         \n",
      "_________________________________________________________________\n",
      "flatten (Flatten)            (None, 25088)             0         \n",
      "_________________________________________________________________\n",
      "dense (Dense)                (None, 2)                 50178     \n",
      "=================================================================\n",
      "Total params: 20,074,562\n",
      "Trainable params: 50,178\n",
      "Non-trainable params: 20,024,384\n",
      "_________________________________________________________________\n"
     ]
    }
   ],
   "source": [
    "# viewing the structure of model\n",
    "# in last layer we can see that we have  2 nodes\n",
    "model.summary()"
   ]
  },
  {
   "cell_type": "code",
   "execution_count": 11,
   "metadata": {},
   "outputs": [],
   "source": [
    "# TELLING THE MODEL WHAT COST AND OPTIMIZATION METHOD TO USE\n",
    "# we are using adam optimizer\n",
    "# we are using categorical_cross entropy because we have 2 nodes in last layer\n",
    "model.compile(\n",
    "           loss='categorical_crossentropy',\n",
    "           optimizer='adam',\n",
    "           metrics=['accuracy']\n",
    ")"
   ]
  },
  {
   "cell_type": "code",
   "execution_count": 12,
   "metadata": {},
   "outputs": [],
   "source": [
    "# USING THE IMAGE DATA GENERATOR TO IMPORT IMAGES FROM DATASET\n",
    "from tensorflow.keras.preprocessing.image import ImageDataGenerator\n",
    "\n",
    "train_datagen= ImageDataGenerator(rescale=1./255,\n",
    "                                  shear_range=0.2,\n",
    "                                 zoom_range=0.2,\n",
    "                                 horizontal_flip=True)\n",
    "\n",
    "# WE DONT USE IMAGE AUGMENTATION ON TEST DATA EXCPET RESCALIN\n",
    "test_datagen= ImageDataGenerator(rescale=1./255)"
   ]
  },
  {
   "cell_type": "code",
   "execution_count": 13,
   "metadata": {},
   "outputs": [
    {
     "name": "stdout",
     "output_type": "stream",
     "text": [
      "Found 416 images belonging to 2 classes.\n"
     ]
    }
   ],
   "source": [
    "# MAKE SURE YOU PROVIDE THE SAME TARGET SIZE AS INITIALIZED FOR THE IMAGE SIZE\n",
    "training_set= train_datagen.flow_from_directory(r'C:\\Users\\Chaitanya Kaul\\Dataset\\Dataset\\Train',\n",
    "                                               target_size=(224,224),\n",
    "                                               batch_size=32,\n",
    "                                               class_mode='categorical')"
   ]
  },
  {
   "cell_type": "code",
   "execution_count": 14,
   "metadata": {},
   "outputs": [
    {
     "name": "stdout",
     "output_type": "stream",
     "text": [
      "Found 134 images belonging to 2 classes.\n"
     ]
    }
   ],
   "source": [
    "test_set = test_datagen.flow_from_directory(r'C:\\Users\\Chaitanya Kaul\\Dataset\\Dataset\\Test',\n",
    "                                            target_size = (224, 224),\n",
    "                                            batch_size = 32,\n",
    "                                            class_mode = 'categorical')"
   ]
  },
  {
   "cell_type": "code",
   "execution_count": 16,
   "metadata": {},
   "outputs": [
    {
     "name": "stdout",
     "output_type": "stream",
     "text": [
      "WARNING:tensorflow:From <ipython-input-16-69229fe26ea3>:8: Model.fit_generator (from tensorflow.python.keras.engine.training) is deprecated and will be removed in a future version.\n",
      "Instructions for updating:\n",
      "Please use Model.fit, which supports generators.\n",
      "WARNING:tensorflow:sample_weight modes were coerced from\n",
      "  ...\n",
      "    to  \n",
      "  ['...']\n",
      "WARNING:tensorflow:sample_weight modes were coerced from\n",
      "  ...\n",
      "    to  \n",
      "  ['...']\n",
      "Train for 13 steps, validate for 5 steps\n",
      "Epoch 1/50\n",
      "13/13 [==============================] - 226s 17s/step - loss: 1.3418 - accuracy: 0.5529 - val_loss: 0.6776 - val_accuracy: 0.6791\n",
      "Epoch 2/50\n",
      "13/13 [==============================] - 228s 18s/step - loss: 0.7851 - accuracy: 0.6394 - val_loss: 1.3847 - val_accuracy: 0.4328\n",
      "Epoch 3/50\n",
      "13/13 [==============================] - 228s 18s/step - loss: 0.5088 - accuracy: 0.7692 - val_loss: 0.6128 - val_accuracy: 0.6716\n",
      "Epoch 4/50\n",
      "13/13 [==============================] - 231s 18s/step - loss: 0.3959 - accuracy: 0.8149 - val_loss: 0.4199 - val_accuracy: 0.6716\n",
      "Epoch 5/50\n",
      "13/13 [==============================] - 224s 17s/step - loss: 0.4116 - accuracy: 0.8029 - val_loss: 0.5429 - val_accuracy: 0.7090\n",
      "Epoch 6/50\n",
      "13/13 [==============================] - 224s 17s/step - loss: 0.3101 - accuracy: 0.8774 - val_loss: 0.3530 - val_accuracy: 0.8358\n",
      "Epoch 7/50\n",
      "13/13 [==============================] - 213s 16s/step - loss: 0.2715 - accuracy: 0.8846 - val_loss: 0.3675 - val_accuracy: 0.8358\n",
      "Epoch 8/50\n",
      "13/13 [==============================] - 211s 16s/step - loss: 0.2577 - accuracy: 0.9062 - val_loss: 0.3756 - val_accuracy: 0.7761\n",
      "Epoch 9/50\n",
      "13/13 [==============================] - 214s 16s/step - loss: 0.2200 - accuracy: 0.9303 - val_loss: 0.3579 - val_accuracy: 0.7985\n",
      "Epoch 10/50\n",
      "13/13 [==============================] - 220s 17s/step - loss: 0.2253 - accuracy: 0.9279 - val_loss: 0.2763 - val_accuracy: 0.8806\n",
      "Epoch 11/50\n",
      "13/13 [==============================] - 271s 21s/step - loss: 0.2401 - accuracy: 0.8966 - val_loss: 0.4525 - val_accuracy: 0.7388\n",
      "Epoch 12/50\n",
      "13/13 [==============================] - 241s 19s/step - loss: 0.2032 - accuracy: 0.9351 - val_loss: 0.2636 - val_accuracy: 0.8507\n",
      "Epoch 13/50\n",
      "13/13 [==============================] - 261s 20s/step - loss: 0.2172 - accuracy: 0.9255 - val_loss: 0.5959 - val_accuracy: 0.6940\n",
      "Epoch 14/50\n",
      "13/13 [==============================] - 257s 20s/step - loss: 0.2304 - accuracy: 0.9135 - val_loss: 0.2513 - val_accuracy: 0.8507\n",
      "Epoch 15/50\n",
      "13/13 [==============================] - 194s 15s/step - loss: 0.1981 - accuracy: 0.9303 - val_loss: 0.2671 - val_accuracy: 0.8806\n",
      "Epoch 16/50\n",
      "13/13 [==============================] - 159s 12s/step - loss: 0.1616 - accuracy: 0.9567 - val_loss: 0.2956 - val_accuracy: 0.8433\n",
      "Epoch 17/50\n",
      "13/13 [==============================] - 164s 13s/step - loss: 0.1592 - accuracy: 0.9567 - val_loss: 0.2247 - val_accuracy: 0.8955\n",
      "Epoch 18/50\n",
      "13/13 [==============================] - 159s 12s/step - loss: 0.1800 - accuracy: 0.9447 - val_loss: 0.2303 - val_accuracy: 0.9104\n",
      "Epoch 19/50\n",
      "13/13 [==============================] - 158s 12s/step - loss: 0.1660 - accuracy: 0.9423 - val_loss: 0.2030 - val_accuracy: 0.9104\n",
      "Epoch 20/50\n",
      "13/13 [==============================] - 150s 12s/step - loss: 0.1576 - accuracy: 0.9399 - val_loss: 0.2525 - val_accuracy: 0.8881\n",
      "Epoch 21/50\n",
      "13/13 [==============================] - 144s 11s/step - loss: 0.1368 - accuracy: 0.9567 - val_loss: 0.2048 - val_accuracy: 0.9328\n",
      "Epoch 22/50\n",
      "13/13 [==============================] - 149s 11s/step - loss: 0.1366 - accuracy: 0.9471 - val_loss: 0.3051 - val_accuracy: 0.8209\n",
      "Epoch 23/50\n",
      "13/13 [==============================] - 152s 12s/step - loss: 0.1360 - accuracy: 0.9591 - val_loss: 0.2026 - val_accuracy: 0.9254\n",
      "Epoch 24/50\n",
      "13/13 [==============================] - 145s 11s/step - loss: 0.1256 - accuracy: 0.9712 - val_loss: 0.2629 - val_accuracy: 0.8582\n",
      "Epoch 25/50\n",
      "13/13 [==============================] - 142s 11s/step - loss: 0.1335 - accuracy: 0.9591 - val_loss: 0.2248 - val_accuracy: 0.9104\n",
      "Epoch 26/50\n",
      "13/13 [==============================] - 140s 11s/step - loss: 0.1505 - accuracy: 0.9447 - val_loss: 0.2345 - val_accuracy: 0.8881\n",
      "Epoch 27/50\n",
      "13/13 [==============================] - 141s 11s/step - loss: 0.1069 - accuracy: 0.9736 - val_loss: 0.2960 - val_accuracy: 0.8507\n",
      "Epoch 28/50\n",
      "13/13 [==============================] - 142s 11s/step - loss: 0.1355 - accuracy: 0.9519 - val_loss: 0.1819 - val_accuracy: 0.9478\n",
      "Epoch 29/50\n",
      "13/13 [==============================] - 143s 11s/step - loss: 0.1255 - accuracy: 0.9639 - val_loss: 0.2352 - val_accuracy: 0.8806\n",
      "Epoch 30/50\n",
      "13/13 [==============================] - 138s 11s/step - loss: 0.1142 - accuracy: 0.9688 - val_loss: 0.1902 - val_accuracy: 0.9179\n",
      "Epoch 31/50\n",
      "13/13 [==============================] - 150s 12s/step - loss: 0.1032 - accuracy: 0.9663 - val_loss: 0.1850 - val_accuracy: 0.9179\n",
      "Epoch 32/50\n",
      "13/13 [==============================] - 150s 12s/step - loss: 0.0999 - accuracy: 0.9784 - val_loss: 0.1810 - val_accuracy: 0.9328\n",
      "Epoch 33/50\n",
      "13/13 [==============================] - 150s 12s/step - loss: 0.1134 - accuracy: 0.9591 - val_loss: 0.2522 - val_accuracy: 0.8806\n",
      "Epoch 34/50\n",
      "13/13 [==============================] - 148s 11s/step - loss: 0.1067 - accuracy: 0.9543 - val_loss: 0.2801 - val_accuracy: 0.8582\n",
      "Epoch 35/50\n",
      "13/13 [==============================] - 149s 11s/step - loss: 0.0992 - accuracy: 0.9639 - val_loss: 0.1758 - val_accuracy: 0.9254\n",
      "Epoch 36/50\n",
      "13/13 [==============================] - 152s 12s/step - loss: 0.1315 - accuracy: 0.9447 - val_loss: 0.2066 - val_accuracy: 0.9328\n",
      "Epoch 37/50\n",
      "13/13 [==============================] - 147s 11s/step - loss: 0.1501 - accuracy: 0.9447 - val_loss: 0.3707 - val_accuracy: 0.7687\n",
      "Epoch 38/50\n",
      "13/13 [==============================] - 148s 11s/step - loss: 0.1046 - accuracy: 0.9543 - val_loss: 0.2179 - val_accuracy: 0.9104\n",
      "Epoch 39/50\n",
      "13/13 [==============================] - 145s 11s/step - loss: 0.0865 - accuracy: 0.9736 - val_loss: 0.1640 - val_accuracy: 0.9254\n",
      "Epoch 40/50\n",
      "13/13 [==============================] - 143s 11s/step - loss: 0.0816 - accuracy: 0.9856 - val_loss: 0.2971 - val_accuracy: 0.8433\n",
      "Epoch 41/50\n",
      "13/13 [==============================] - 145s 11s/step - loss: 0.0854 - accuracy: 0.9784 - val_loss: 0.1754 - val_accuracy: 0.9179\n",
      "Epoch 42/50\n",
      "13/13 [==============================] - 141s 11s/step - loss: 0.0901 - accuracy: 0.9712 - val_loss: 0.1981 - val_accuracy: 0.9030\n",
      "Epoch 43/50\n",
      "13/13 [==============================] - 139s 11s/step - loss: 0.0723 - accuracy: 0.9904 - val_loss: 0.2355 - val_accuracy: 0.8731\n",
      "Epoch 44/50\n",
      "13/13 [==============================] - 141s 11s/step - loss: 0.0860 - accuracy: 0.9712 - val_loss: 0.2014 - val_accuracy: 0.8955\n",
      "Epoch 45/50\n",
      "13/13 [==============================] - 136s 10s/step - loss: 0.0801 - accuracy: 0.9712 - val_loss: 0.1842 - val_accuracy: 0.9030\n",
      "Epoch 46/50\n",
      "13/13 [==============================] - 140s 11s/step - loss: 0.0963 - accuracy: 0.9760 - val_loss: 0.1997 - val_accuracy: 0.8955\n",
      "Epoch 47/50\n",
      "13/13 [==============================] - 139s 11s/step - loss: 0.1229 - accuracy: 0.9567 - val_loss: 0.1808 - val_accuracy: 0.9104\n",
      "Epoch 48/50\n",
      "13/13 [==============================] - 138s 11s/step - loss: 0.0795 - accuracy: 0.9712 - val_loss: 0.1975 - val_accuracy: 0.8955\n",
      "Epoch 49/50\n",
      "13/13 [==============================] - 141s 11s/step - loss: 0.0845 - accuracy: 0.9784 - val_loss: 0.1928 - val_accuracy: 0.9030\n",
      "Epoch 50/50\n",
      "13/13 [==============================] - 136s 10s/step - loss: 0.0760 - accuracy: 0.9760 - val_loss: 0.2482 - val_accuracy: 0.8806\n"
     ]
    }
   ],
   "source": [
    "# fit the model\n",
    "# Run the cell. It will take some time to execute\n",
    "r = model.fit_generator(\n",
    "  training_set,\n",
    "  validation_data=test_set,\n",
    "  epochs=50,\n",
    "  steps_per_epoch=len(training_set),\n",
    "  validation_steps=len(test_set)\n",
    ")"
   ]
  },
  {
   "cell_type": "markdown",
   "metadata": {},
   "source": [
    "#### WE CAN SEE THAT WE ARE GETTING AN ACCURACY OF 97.60% IN OUR FINAL EPOCH WHICH IS PRETTY GOOD"
   ]
  },
  {
   "cell_type": "code",
   "execution_count": 17,
   "metadata": {},
   "outputs": [
    {
     "data": {
      "image/png": "[encoded data removed]",
      "text/plain": [
       "<Figure size 432x288 with 1 Axes>"
      ]
     },
     "metadata": {
      "needs_background": "light"
     },
     "output_type": "display_data"
    },
    {
     "data": {
      "image/png": "[encoded data removed]",
      "text/plain": [
       "<Figure size 432x288 with 1 Axes>"
      ]
     },
     "metadata": {
      "needs_background": "light"
     },
     "output_type": "display_data"
    },
    {
     "data": {
      "text/plain": [
       "<Figure size 432x288 with 0 Axes>"
      ]
     },
     "metadata": {},
     "output_type": "display_data"
    }
   ],
   "source": [
    "# plot the loss\n",
    "plt.plot(r.history['loss'], label='train loss')\n",
    "plt.plot(r.history['val_loss'], label='val loss')\n",
    "plt.legend()\n",
    "plt.show()\n",
    "plt.savefig('LossVal_loss')\n",
    "\n",
    "# plot the accuracy\n",
    "plt.plot(r.history['accuracy'], label='train acc')\n",
    "plt.plot(r.history['val_accuracy'], label='val acc')\n",
    "plt.legend()\n",
    "plt.show()\n",
    "plt.savefig('AccVal_acc')"
   ]
  },
  {
   "cell_type": "code",
   "execution_count": 19,
   "metadata": {},
   "outputs": [],
   "source": [
    " # save it as a h5 file\n",
    "\n",
    "\n",
    "from tensorflow.keras.models import load_model\n",
    "\n",
    "model.save('model_vgg19.h5')"
   ]
  },
  {
   "cell_type": "code",
   "execution_count": 20,
   "metadata": {},
   "outputs": [],
   "source": [
    "# our prediction variable\n",
    "y_pred = model.predict(test_set)"
   ]
  },
  {
   "cell_type": "code",
   "execution_count": 21,
   "metadata": {},
   "outputs": [
    {
     "data": {
      "text/plain": [
       "array([[6.5191501e-01, 3.4808499e-01],\n",
       "       [9.9819070e-01, 1.8092669e-03],\n",
       "       [9.9981040e-01, 1.8967474e-04],\n",
       "       [9.9983883e-01, 1.6110322e-04],\n",
       "       [9.9819958e-01, 1.8004152e-03],\n",
       "       [4.1652233e-03, 9.9583471e-01],\n",
       "       [9.8880357e-01, 1.1196445e-02],\n",
       "       [9.9976856e-01, 2.3145879e-04],\n",
       "       [1.5616649e-01, 8.4383351e-01],\n",
       "       [9.6560019e-01, 3.4399830e-02],\n",
       "       [2.9369513e-02, 9.7063047e-01],\n",
       "       [9.9978083e-01, 2.1915308e-04],\n",
       "       [9.9523610e-01, 4.7639143e-03],\n",
       "       [6.5738040e-01, 3.4261963e-01],\n",
       "       [9.6198362e-01, 3.8016312e-02],\n",
       "       [9.9997926e-01, 2.0719604e-05],\n",
       "       [9.9999368e-01, 6.2647350e-06],\n",
       "       [9.6813053e-01, 3.1869430e-02],\n",
       "       [9.8431128e-01, 1.5688688e-02],\n",
       "       [3.3826303e-01, 6.6173697e-01],\n",
       "       [1.2413622e-02, 9.8758638e-01],\n",
       "       [9.9939990e-01, 6.0006807e-04],\n",
       "       [3.1772801e-01, 6.8227202e-01],\n",
       "       [9.5256180e-01, 4.7438174e-02],\n",
       "       [1.2505566e-01, 8.7494439e-01],\n",
       "       [9.8744130e-01, 1.2558685e-02],\n",
       "       [9.9998212e-01, 1.7828093e-05],\n",
       "       [7.7127866e-02, 9.2287219e-01],\n",
       "       [9.9896598e-01, 1.0340820e-03],\n",
       "       [1.7758150e-03, 9.9822420e-01],\n",
       "       [9.7665375e-01, 2.3346214e-02],\n",
       "       [9.9543899e-01, 4.5610624e-03],\n",
       "       [6.5852547e-01, 3.4147459e-01],\n",
       "       [9.9937528e-01, 6.2479929e-04],\n",
       "       [7.3545828e-02, 9.2645419e-01],\n",
       "       [9.9764178e-03, 9.9002355e-01],\n",
       "       [4.6837115e-01, 5.3162885e-01],\n",
       "       [7.2107404e-01, 2.7892587e-01],\n",
       "       [3.5708424e-02, 9.6429163e-01],\n",
       "       [8.9123344e-01, 1.0876654e-01],\n",
       "       [5.9170789e-01, 4.0829214e-01],\n",
       "       [7.1440721e-01, 2.8559276e-01],\n",
       "       [9.1941136e-01, 8.0588609e-02],\n",
       "       [5.2000105e-01, 4.7999895e-01],\n",
       "       [9.9504024e-01, 4.9597314e-03],\n",
       "       [1.5519610e-02, 9.8448044e-01],\n",
       "       [9.1223210e-01, 8.7767921e-02],\n",
       "       [6.4033750e-03, 9.9359655e-01],\n",
       "       [2.1747386e-02, 9.7825259e-01],\n",
       "       [2.4992501e-02, 9.7500753e-01],\n",
       "       [1.6309086e-02, 9.8369092e-01],\n",
       "       [1.0885414e-02, 9.8911464e-01],\n",
       "       [9.9983025e-01, 1.6974691e-04],\n",
       "       [8.1673127e-01, 1.8326871e-01],\n",
       "       [6.8099558e-02, 9.3190044e-01],\n",
       "       [2.7128398e-01, 7.2871596e-01],\n",
       "       [8.3764963e-02, 9.1623503e-01],\n",
       "       [2.2925638e-02, 9.7707433e-01],\n",
       "       [9.9999428e-01, 5.6726026e-06],\n",
       "       [8.4406245e-01, 1.5593761e-01],\n",
       "       [2.0132240e-02, 9.7986782e-01],\n",
       "       [9.9048644e-01, 9.5135896e-03],\n",
       "       [9.0492326e-01, 9.5076770e-02],\n",
       "       [6.3798755e-01, 3.6201245e-01],\n",
       "       [9.3312842e-01, 6.6871576e-02],\n",
       "       [2.3707081e-02, 9.7629297e-01],\n",
       "       [3.1063354e-02, 9.6893668e-01],\n",
       "       [2.1066239e-02, 9.7893381e-01],\n",
       "       [2.2908646e-01, 7.7091354e-01],\n",
       "       [4.8321549e-02, 9.5167845e-01],\n",
       "       [1.2538394e-01, 8.7461609e-01],\n",
       "       [9.9994981e-01, 5.0181945e-05],\n",
       "       [9.9955028e-01, 4.4966250e-04],\n",
       "       [1.3980641e-02, 9.8601937e-01],\n",
       "       [9.9879104e-01, 1.2089469e-03],\n",
       "       [9.9916828e-01, 8.3175168e-04],\n",
       "       [4.6005465e-02, 9.5399457e-01],\n",
       "       [2.4126145e-01, 7.5873852e-01],\n",
       "       [5.5482394e-01, 4.4517604e-01],\n",
       "       [9.6021652e-01, 3.9783444e-02],\n",
       "       [8.6496383e-01, 1.3503613e-01],\n",
       "       [1.0000000e+00, 2.1775946e-08],\n",
       "       [1.7502390e-02, 9.8249763e-01],\n",
       "       [9.9609715e-01, 3.9028563e-03],\n",
       "       [2.6579607e-01, 7.3420393e-01],\n",
       "       [1.7150053e-01, 8.2849950e-01],\n",
       "       [3.3206642e-02, 9.6679336e-01],\n",
       "       [8.2902932e-01, 1.7097068e-01],\n",
       "       [5.5412825e-02, 9.4458723e-01],\n",
       "       [7.3179466e-01, 2.6820537e-01],\n",
       "       [6.2720048e-01, 3.7279949e-01],\n",
       "       [8.7908107e-01, 1.2091899e-01],\n",
       "       [1.7051476e-01, 8.2948524e-01],\n",
       "       [9.8072982e-01, 1.9270146e-02],\n",
       "       [9.5499259e-01, 4.5007445e-02],\n",
       "       [6.1108552e-02, 9.3889141e-01],\n",
       "       [4.4371564e-02, 9.5562845e-01],\n",
       "       [9.9902999e-01, 9.7002089e-04],\n",
       "       [1.7907379e-02, 9.8209262e-01],\n",
       "       [3.2680247e-02, 9.6731967e-01],\n",
       "       [9.9996376e-01, 3.6292207e-05],\n",
       "       [5.5528754e-01, 4.4471246e-01],\n",
       "       [3.3602247e-01, 6.6397762e-01],\n",
       "       [2.8367019e-01, 7.1632987e-01],\n",
       "       [1.0195409e-02, 9.8980463e-01],\n",
       "       [5.7176191e-01, 4.2823806e-01],\n",
       "       [3.4427620e-02, 9.6557236e-01],\n",
       "       [9.9586570e-01, 4.1342760e-03],\n",
       "       [5.2075729e-02, 9.4792420e-01],\n",
       "       [5.4275740e-02, 9.4572425e-01],\n",
       "       [9.5683664e-01, 4.3163329e-02],\n",
       "       [5.4130405e-01, 4.5869592e-01],\n",
       "       [4.9909461e-02, 9.5009059e-01],\n",
       "       [6.7254542e-03, 9.9327457e-01],\n",
       "       [9.9824011e-01, 1.7599319e-03],\n",
       "       [7.4979685e-02, 9.2502034e-01],\n",
       "       [6.5257078e-01, 3.4742925e-01],\n",
       "       [1.2272911e-02, 9.8772705e-01],\n",
       "       [9.9940956e-01, 5.9039774e-04],\n",
       "       [5.4178911e-01, 4.5821086e-01],\n",
       "       [3.5238811e-01, 6.4761192e-01],\n",
       "       [9.9957854e-01, 4.2148671e-04],\n",
       "       [8.3006722e-01, 1.6993278e-01],\n",
       "       [7.0369050e-02, 9.2963099e-01],\n",
       "       [9.9999845e-01, 1.5602922e-06],\n",
       "       [3.6127884e-02, 9.6387213e-01],\n",
       "       [8.3247172e-03, 9.9167526e-01],\n",
       "       [6.6355640e-01, 3.3644357e-01],\n",
       "       [6.6586155e-01, 3.3413836e-01],\n",
       "       [9.9999988e-01, 6.2805604e-08],\n",
       "       [9.9961948e-01, 3.8045878e-04],\n",
       "       [9.9873692e-01, 1.2631039e-03],\n",
       "       [9.9774736e-01, 2.2526274e-03],\n",
       "       [9.9999285e-01, 7.1239419e-06]], dtype=float32)"
      ]
     },
     "execution_count": 21,
     "metadata": {},
     "output_type": "execute_result"
    }
   ],
   "source": [
    "y_pred"
   ]
  },
  {
   "cell_type": "code",
   "execution_count": 22,
   "metadata": {},
   "outputs": [],
   "source": [
    "# argmax is used to get the index of maximum value from our above predictions\n",
    "import numpy as np\n",
    "y_pred = np.argmax(y_pred, axis=1)"
   ]
  },
  {
   "cell_type": "code",
   "execution_count": 25,
   "metadata": {},
   "outputs": [
    {
     "data": {
      "text/plain": [
       "array([0, 0, 0, 0, 0, 1, 0, 0, 1, 0, 1, 0, 0, 0, 0, 0, 0, 0, 0, 1, 1, 0,\n",
       "       1, 0, 1, 0, 0, 1, 0, 1, 0, 0, 0, 0, 1, 1, 1, 0, 1, 0, 0, 0, 0, 0,\n",
       "       0, 1, 0, 1, 1, 1, 1, 1, 0, 0, 1, 1, 1, 1, 0, 0, 1, 0, 0, 0, 0, 1,\n",
       "       1, 1, 1, 1, 1, 0, 0, 1, 0, 0, 1, 1, 0, 0, 0, 0, 1, 0, 1, 1, 1, 0,\n",
       "       1, 0, 0, 0, 1, 0, 0, 1, 1, 0, 1, 1, 0, 0, 1, 1, 1, 0, 1, 0, 1, 1,\n",
       "       0, 0, 1, 1, 0, 1, 0, 1, 0, 0, 1, 0, 0, 1, 0, 1, 1, 0, 0, 0, 0, 0,\n",
       "       0, 0], dtype=int64)"
      ]
     },
     "execution_count": 25,
     "metadata": {},
     "output_type": "execute_result"
    }
   ],
   "source": [
    "# looking at our predictions\n",
    "y_pred"
   ]
  },
  {
   "cell_type": "code",
   "execution_count": 27,
   "metadata": {},
   "outputs": [],
   "source": [
    "# LOADING THE MODEL\n",
    "from tensorflow.keras.preprocessing import image\n",
    "model=load_model('model_vgg19.h5')"
   ]
  },
  {
   "cell_type": "code",
   "execution_count": 28,
   "metadata": {},
   "outputs": [],
   "source": [
    "# PATH OF AN IMAGE FROM OUR TEST DATASET\n",
    "img= image.load_img(r'C:\\Users\\Chaitanya Kaul\\Dataset\\Dataset\\Test\\Uninfected\\2.png',target_size=(224,224))"
   ]
  },
  {
   "cell_type": "code",
   "execution_count": 37,
   "metadata": {},
   "outputs": [
    {
     "data": {
      "text/plain": [
       "array([[[0., 0., 0.],\n",
       "        [0., 0., 0.],\n",
       "        [0., 0., 0.],\n",
       "        ...,\n",
       "        [0., 0., 0.],\n",
       "        [0., 0., 0.],\n",
       "        [0., 0., 0.]],\n",
       "\n",
       "       [[0., 0., 0.],\n",
       "        [0., 0., 0.],\n",
       "        [0., 0., 0.],\n",
       "        ...,\n",
       "        [0., 0., 0.],\n",
       "        [0., 0., 0.],\n",
       "        [0., 0., 0.]],\n",
       "\n",
       "       [[0., 0., 0.],\n",
       "        [0., 0., 0.],\n",
       "        [0., 0., 0.],\n",
       "        ...,\n",
       "        [0., 0., 0.],\n",
       "        [0., 0., 0.],\n",
       "        [0., 0., 0.]],\n",
       "\n",
       "       ...,\n",
       "\n",
       "       [[0., 0., 0.],\n",
       "        [0., 0., 0.],\n",
       "        [0., 0., 0.],\n",
       "        ...,\n",
       "        [0., 0., 0.],\n",
       "        [0., 0., 0.],\n",
       "        [0., 0., 0.]],\n",
       "\n",
       "       [[0., 0., 0.],\n",
       "        [0., 0., 0.],\n",
       "        [0., 0., 0.],\n",
       "        ...,\n",
       "        [0., 0., 0.],\n",
       "        [0., 0., 0.],\n",
       "        [0., 0., 0.]],\n",
       "\n",
       "       [[0., 0., 0.],\n",
       "        [0., 0., 0.],\n",
       "        [0., 0., 0.],\n",
       "        ...,\n",
       "        [0., 0., 0.],\n",
       "        [0., 0., 0.],\n",
       "        [0., 0., 0.]]], dtype=float32)"
      ]
     },
     "execution_count": 37,
     "metadata": {},
     "output_type": "execute_result"
    }
   ],
   "source": [
    "# CONVERTING THE IMAGE INTO ARRAY\n",
    "y=image.img_to_array(img)\n",
    "y"
   ]
  },
  {
   "cell_type": "code",
   "execution_count": 38,
   "metadata": {},
   "outputs": [
    {
     "data": {
      "text/plain": [
       "(224, 224, 3)"
      ]
     },
     "execution_count": 38,
     "metadata": {},
     "output_type": "execute_result"
    }
   ],
   "source": [
    "# LOOKING AT THE SHAPE OF THE IMAGE---> 3D\n",
    "y.shape"
   ]
  },
  {
   "cell_type": "code",
   "execution_count": 39,
   "metadata": {},
   "outputs": [],
   "source": [
    "y=y/255"
   ]
  },
  {
   "cell_type": "code",
   "execution_count": 40,
   "metadata": {},
   "outputs": [
    {
     "data": {
      "text/plain": [
       "(1, 224, 224, 3)"
      ]
     },
     "execution_count": 40,
     "metadata": {},
     "output_type": "execute_result"
    }
   ],
   "source": [
    "# EXPANDING THE DIMENSIONS\n",
    "\n",
    "y=np.expand_dims(y,axis=0)\n",
    "img_data=preprocess_input(y)\n",
    "img_data.shape\n"
   ]
  },
  {
   "cell_type": "code",
   "execution_count": 41,
   "metadata": {},
   "outputs": [
    {
     "data": {
      "text/plain": [
       "array([[0.00739761, 0.9926024 ]], dtype=float32)"
      ]
     },
     "execution_count": 41,
     "metadata": {},
     "output_type": "execute_result"
    }
   ],
   "source": [
    "model.predict(img_data)"
   ]
  },
  {
   "cell_type": "code",
   "execution_count": 42,
   "metadata": {},
   "outputs": [],
   "source": [
    "a= np.argmax(model.predict(img_data),axis=1)"
   ]
  },
  {
   "cell_type": "code",
   "execution_count": 43,
   "metadata": {},
   "outputs": [
    {
     "name": "stdout",
     "output_type": "stream",
     "text": [
      "Uninfected\n"
     ]
    }
   ],
   "source": [
    "if(a==1):\n",
    "    print(\"Uninfected\")\n",
    "else:\n",
    "    print(\"Infected\")\n"
   ]
  },
  {
   "cell_type": "markdown",
   "metadata": {},
   "source": [
    "OUR PREDICTION IS CORRECT HERE"
   ]
  }
 ],
 "metadata": {
  "kernelspec": {
   "display_name": "Python 3",
   "language": "python",
   "name": "python3"
  },
  "language_info": {
   "codemirror_mode": {
    "name": "ipython",
    "version": 3
   },
   "file_extension": ".py",
   "mimetype": "text/x-python",
   "name": "python",
   "nbconvert_exporter": "python",
   "pygments_lexer": "ipython3",
   "version": "3.7.7"
  }
 },
 "nbformat": 4,
 "nbformat_minor": 4
}
